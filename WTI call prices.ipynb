{
 "cells": [
  {
   "cell_type": "code",
   "execution_count": 7,
   "metadata": {},
   "outputs": [],
   "source": [
    "import numpy as np \n",
    "import random\n",
    "import math \n",
    "from statistics import mean\n",
    "import pandas as pd\n",
    "import matplotlib.pyplot as plt\n",
    "from sklearn.linear_model import LinearRegression\n",
    "import base64\n",
    "import pandas as pd\n",
    "from IPython.display import HTML\n",
    "def create_download_link( df, title = \"Download CSV file\", filename = \"data.csv\"):\n",
    "    csv = df.to_csv()\n",
    "    b64 = base64.b64encode(csv.encode())\n",
    "    payload = b64.decode()\n",
    "    html = '<a download=\"{filename}\" href=\"data:text/csv;base64,{payload}\" target=\"_blank\">{title}</a>'\n",
    "    html = html.format(payload=payload,title=title,filename=filename)\n",
    "    return HTML(html)\n",
    "prices=pd.read_csv(\"PricesFile1.csv\")\n",
    "df_wti=prices[prices.priceindex=='WTI NYMEX LIGHT SWEET']\n",
    "df_wti=df_wti[pd.to_datetime(df_wti.pricedate) < pd.to_datetime(df_wti.delivdate)]\n",
    "df_wti.rename(columns={'priceindex':'volatilityindex','pricedate': 'volatilitydate', 'delivdate': 'begtime'},inplace=True)"
   ]
  },
  {
   "cell_type": "code",
   "execution_count": 11,
   "metadata": {},
   "outputs": [
    {
     "data": {
      "text/html": [
       "<div>\n",
       "<style scoped>\n",
       "    .dataframe tbody tr th:only-of-type {\n",
       "        vertical-align: middle;\n",
       "    }\n",
       "\n",
       "    .dataframe tbody tr th {\n",
       "        vertical-align: top;\n",
       "    }\n",
       "\n",
       "    .dataframe thead th {\n",
       "        text-align: right;\n",
       "    }\n",
       "</style>\n",
       "<table border=\"1\" class=\"dataframe\">\n",
       "  <thead>\n",
       "    <tr style=\"text-align: right;\">\n",
       "      <th></th>\n",
       "      <th>priceindex</th>\n",
       "      <th>pricedate</th>\n",
       "      <th>delivdate</th>\n",
       "      <th>price</th>\n",
       "      <th>key</th>\n",
       "      <th>duration</th>\n",
       "      <th>duration_months</th>\n",
       "      <th>volatilityindex</th>\n",
       "      <th>strikeprice</th>\n",
       "      <th>volatility</th>\n",
       "      <th>pricedate_r</th>\n",
       "      <th>maturity</th>\n",
       "      <th>bidrate</th>\n",
       "      <th>number</th>\n",
       "      <th>MorY</th>\n",
       "      <th>months</th>\n",
       "    </tr>\n",
       "  </thead>\n",
       "  <tbody>\n",
       "    <tr>\n",
       "      <th>0</th>\n",
       "      <td>WTI NYMEX LIGHT SWEET</td>\n",
       "      <td>3/2/2020</td>\n",
       "      <td>4/1/2020</td>\n",
       "      <td>46.749</td>\n",
       "      <td>2020-03-02,2020-04-01</td>\n",
       "      <td>30 days 00:00:00.000000000</td>\n",
       "      <td>1</td>\n",
       "      <td>V_WTI NYMEX LIGHT SWEET</td>\n",
       "      <td>25.0</td>\n",
       "      <td>0.933</td>\n",
       "      <td>3/2/2020</td>\n",
       "      <td>1M</td>\n",
       "      <td>1.110001</td>\n",
       "      <td>1</td>\n",
       "      <td>M</td>\n",
       "      <td>1</td>\n",
       "    </tr>\n",
       "    <tr>\n",
       "      <th>1</th>\n",
       "      <td>WTI NYMEX LIGHT SWEET</td>\n",
       "      <td>3/2/2020</td>\n",
       "      <td>4/1/2020</td>\n",
       "      <td>46.749</td>\n",
       "      <td>2020-03-02,2020-04-01</td>\n",
       "      <td>30 days 00:00:00.000000000</td>\n",
       "      <td>1</td>\n",
       "      <td>V_WTI NYMEX LIGHT SWEET</td>\n",
       "      <td>25.5</td>\n",
       "      <td>0.913</td>\n",
       "      <td>3/2/2020</td>\n",
       "      <td>1M</td>\n",
       "      <td>1.110001</td>\n",
       "      <td>1</td>\n",
       "      <td>M</td>\n",
       "      <td>1</td>\n",
       "    </tr>\n",
       "    <tr>\n",
       "      <th>2</th>\n",
       "      <td>WTI NYMEX LIGHT SWEET</td>\n",
       "      <td>3/2/2020</td>\n",
       "      <td>4/1/2020</td>\n",
       "      <td>46.749</td>\n",
       "      <td>2020-03-02,2020-04-01</td>\n",
       "      <td>30 days 00:00:00.000000000</td>\n",
       "      <td>1</td>\n",
       "      <td>V_WTI NYMEX LIGHT SWEET</td>\n",
       "      <td>26.0</td>\n",
       "      <td>0.893</td>\n",
       "      <td>3/2/2020</td>\n",
       "      <td>1M</td>\n",
       "      <td>1.110001</td>\n",
       "      <td>1</td>\n",
       "      <td>M</td>\n",
       "      <td>1</td>\n",
       "    </tr>\n",
       "    <tr>\n",
       "      <th>3</th>\n",
       "      <td>WTI NYMEX LIGHT SWEET</td>\n",
       "      <td>3/2/2020</td>\n",
       "      <td>4/1/2020</td>\n",
       "      <td>46.749</td>\n",
       "      <td>2020-03-02,2020-04-01</td>\n",
       "      <td>30 days 00:00:00.000000000</td>\n",
       "      <td>1</td>\n",
       "      <td>V_WTI NYMEX LIGHT SWEET</td>\n",
       "      <td>26.5</td>\n",
       "      <td>0.874</td>\n",
       "      <td>3/2/2020</td>\n",
       "      <td>1M</td>\n",
       "      <td>1.110001</td>\n",
       "      <td>1</td>\n",
       "      <td>M</td>\n",
       "      <td>1</td>\n",
       "    </tr>\n",
       "    <tr>\n",
       "      <th>4</th>\n",
       "      <td>WTI NYMEX LIGHT SWEET</td>\n",
       "      <td>3/2/2020</td>\n",
       "      <td>4/1/2020</td>\n",
       "      <td>46.749</td>\n",
       "      <td>2020-03-02,2020-04-01</td>\n",
       "      <td>30 days 00:00:00.000000000</td>\n",
       "      <td>1</td>\n",
       "      <td>V_WTI NYMEX LIGHT SWEET</td>\n",
       "      <td>27.0</td>\n",
       "      <td>0.855</td>\n",
       "      <td>3/2/2020</td>\n",
       "      <td>1M</td>\n",
       "      <td>1.110001</td>\n",
       "      <td>1</td>\n",
       "      <td>M</td>\n",
       "      <td>1</td>\n",
       "    </tr>\n",
       "  </tbody>\n",
       "</table>\n",
       "</div>"
      ],
      "text/plain": [
       "              priceindex pricedate delivdate   price                    key  \\\n",
       "0  WTI NYMEX LIGHT SWEET  3/2/2020  4/1/2020  46.749  2020-03-02,2020-04-01   \n",
       "1  WTI NYMEX LIGHT SWEET  3/2/2020  4/1/2020  46.749  2020-03-02,2020-04-01   \n",
       "2  WTI NYMEX LIGHT SWEET  3/2/2020  4/1/2020  46.749  2020-03-02,2020-04-01   \n",
       "3  WTI NYMEX LIGHT SWEET  3/2/2020  4/1/2020  46.749  2020-03-02,2020-04-01   \n",
       "4  WTI NYMEX LIGHT SWEET  3/2/2020  4/1/2020  46.749  2020-03-02,2020-04-01   \n",
       "\n",
       "                     duration  duration_months          volatilityindex  \\\n",
       "0  30 days 00:00:00.000000000                1  V_WTI NYMEX LIGHT SWEET   \n",
       "1  30 days 00:00:00.000000000                1  V_WTI NYMEX LIGHT SWEET   \n",
       "2  30 days 00:00:00.000000000                1  V_WTI NYMEX LIGHT SWEET   \n",
       "3  30 days 00:00:00.000000000                1  V_WTI NYMEX LIGHT SWEET   \n",
       "4  30 days 00:00:00.000000000                1  V_WTI NYMEX LIGHT SWEET   \n",
       "\n",
       "   strikeprice  volatility pricedate_r maturity   bidrate  number MorY  months  \n",
       "0         25.0       0.933    3/2/2020       1M  1.110001       1    M       1  \n",
       "1         25.5       0.913    3/2/2020       1M  1.110001       1    M       1  \n",
       "2         26.0       0.893    3/2/2020       1M  1.110001       1    M       1  \n",
       "3         26.5       0.874    3/2/2020       1M  1.110001       1    M       1  \n",
       "4         27.0       0.855    3/2/2020       1M  1.110001       1    M       1  "
      ]
     },
     "execution_count": 11,
     "metadata": {},
     "output_type": "execute_result"
    }
   ],
   "source": [
    "wti_mstr=pd.read_csv('master_wti_complete.csv')\n",
    "wti_mstr.head()\n"
   ]
  },
  {
   "cell_type": "code",
   "execution_count": 12,
   "metadata": {},
   "outputs": [],
   "source": [
    "def OU_path(a,b,sigma,init,T):\n",
    "    dt = .1  # Time step.\n",
    "    T =  T # Total time.\n",
    "    tau = .5\n",
    "    sqrtdt = np.sqrt(dt)\n",
    "    sigma_bis = sigma#* np.sqrt(2. / tau)\n",
    "    n = int(T / dt)  # Number of time steps.\n",
    "    x = np.zeros(n)\n",
    "    t = np.linspace(0., T, n)  # Vector of times.\n",
    "    x[0]=init\n",
    "    for i in range(n - 1):\n",
    "        x[i + 1] = x[i] +  a*(b - x[i])*dt + sigma_bis*sqrtdt*np.random.randn()\n",
    "    return x\n",
    "\n",
    "def OU_path2(a,b,sigma,init):\n",
    "    delta = .25 # Time step.\n",
    "    T = 32.  # Total time.\n",
    "    n = int(T / delta)  # Number of time steps.\n",
    "    x = np.zeros(n)\n",
    "    sqrtdt = np.sqrt(delta)\n",
    "    t = np.linspace(0., T, n)  # Vector of times.\n",
    "    x[0]=init    # initial value\n",
    "    for i in range(n - 1):\n",
    "        q= b*(1 - math.exp(-a*delta) )\n",
    "        r=sigma*math.sqrt((1- math.exp(-2*a*delta)/2*a))*np.random.randn()                         \n",
    "        x[i + 1] = x[i]*math.exp(-a*delta) + q + r\n",
    "    return x\n",
    "\n",
    "## providing the parameters for a fixed initial date where we take into account futures price for all the dates.\n",
    "## give just the 'price' coloumn\n",
    "def a_b(x,delta):\n",
    "    Sx = sum(x)-df_wti_1.price.iloc[len(x)-1]\n",
    "    Sy=sum(x)-x.iloc[0]\n",
    "    Sxx= sum((x)**2)-(x.iloc[len(x)-1])**2\n",
    "    Syy = sum((x)**2)-(x.iloc[0])**2\n",
    "    Sxy=0\n",
    "    for i in range(len(x)-1):\n",
    "        Sxy = Sxy+ x.iloc[i]*x.iloc[i+1]\n",
    "    no=len(x)\n",
    "    b= (Sy*Sxx-Sx*Sxy)/(no*(Sxx-Sxy) - (Sx**2 - Sx*Sy))\n",
    "    a= -1*math.log((Sxy-b*Sx-b*Sy+no*b**2 )/(Sxx-2*b*Sx+no*b**2))/delta\n",
    "    return a,b"
   ]
  },
  {
   "cell_type": "code",
   "execution_count": 85,
   "metadata": {},
   "outputs": [
    {
     "data": {
      "text/plain": [
       "0.012135817504487919"
      ]
     },
     "execution_count": 85,
     "metadata": {},
     "output_type": "execute_result"
    }
   ],
   "source": [
    "## extract volatility and strike price to calculate call price using monte carlo simulation\n",
    "wti1=wti_mstr[(wti_mstr.pricedate=='4/1/2020')&(wti_mstr.delivdate=='6/1/2021')]\n",
    "df_wti_1=df_wti[df_wti.volatilitydate =='2020-04-01'] \n",
    "T = (wti1.duration_months.unique())\n",
    "pr=df_wti_1.price\n",
    "acumpayof=0\n",
    "K=35\n",
    "dt=.1\n",
    "n = int(T/dt)\n",
    "t=np.linspace(0.,T,n)\n",
    "npaths=150\n",
    "for i in range(npaths):\n",
    "    x = OU_path(a_b(pr,1)[0],a_b(pr,1)[1], wti1.volatility[wti1.strikeprice==K] , min(df_wti_1.price),T)\n",
    "#    plt.plot(t,x,lw=2)\n",
    "    acumpayof=acumpayof+ max((x[-1] - K),0 )\n",
    "\n",
    "call_p = (acumpayof/npaths)*math.exp(-1*(T/1200-10/360)*wti1.bidrate[wti1.strikeprice==K]*(T/12-10/360))\n",
    "#wti1\n",
    "call_p\n"
   ]
  },
  {
   "cell_type": "code",
   "execution_count": 15,
   "metadata": {},
   "outputs": [
    {
     "data": {
      "text/plain": [
       "4.758107088037737"
      ]
     },
     "execution_count": 15,
     "metadata": {},
     "output_type": "execute_result"
    },
    {
     "data": {
      "image/png": "[encoded data removed]",
      "text/plain": [
       "<Figure size 432x288 with 1 Axes>"
      ]
     },
     "metadata": {
      "needs_background": "light"
     },
     "output_type": "display_data"
    }
   ],
   "source": [
    "## extract volatility and strike price to calculate call price using monte carlo simulation\n",
    "wti1=wti_mstr[(wti_mstr.pricedate=='4/20/2020')&(wti_mstr.delivdate=='11/1/2020')]\n",
    "df_wti_1=df_wti[df_wti.volatilitydate =='2020-04-20'] \n",
    "T = (wti1.duration_months.unique())\n",
    "pr=df_wti_1.price\n",
    "acumpayof=0\n",
    "K=30\n",
    "dt=.1\n",
    "n = int(T/dt)\n",
    "t=np.linspace(0.,T,n)\n",
    "npaths=50\n",
    "for i in range(npaths):\n",
    "    x = OU_path(a_b(pr,1)[0],a_b(pr,1)[1], wti1.volatility[wti1.strikeprice==K] , min(df_wti_1.price),T)\n",
    "    plt.plot(t,x,lw=2)\n",
    "    acumpayof=acumpayof+ max((x[-1] - K),0 )\n",
    "\n",
    "call_p = (acumpayof/npaths)*math.exp(-1*(T/1200)*wti1.bidrate[wti1.strikeprice==K]*(T/12))\n",
    "call_p"
   ]
  },
  {
   "cell_type": "code",
   "execution_count": 16,
   "metadata": {},
   "outputs": [
    {
     "data": {
      "text/plain": [
       "(17.080895235424922, array([8]), 47.398999999999916)"
      ]
     },
     "execution_count": 16,
     "metadata": {},
     "output_type": "execute_result"
    }
   ],
   "source": [
    "## extract volatility and strike price to calculate call price using monte carlo simulation\n",
    "df_wti_1=df_wti[df_wti.volatilitydate =='2020-03-02']\n",
    "wti1=wti_mstr[(wti_mstr.pricedate=='3/2/2020')&(wti_mstr.delivdate=='11/1/2020')]\n",
    "T = (wti1.duration_months.unique())\n",
    "pr=df_wti_1.price\n",
    "acumpayof=0\n",
    "K=30\n",
    "dt=.1\n",
    "n = int(T/dt)\n",
    "t=np.linspace(0.,T,n)\n",
    "npaths=50\n",
    "for i in range(npaths):\n",
    "    x = OU_path(a_b(pr,1)[0],a_b(pr,1)[1], wti1.volatility[wti1.strikeprice==K] , min(df_wti_1.price),T)\n",
    "    acumpayof=acumpayof+ max((x[-1] - K),0 )\n",
    "\n",
    "call_p = (acumpayof/npaths)*math.exp(-1*(T/1200)*wti1.bidrate[wti1.strikeprice==K]*(T/12))\n",
    "call_p,T, wti1.price.mean()"
   ]
  },
  {
   "cell_type": "code",
   "execution_count": 17,
   "metadata": {},
   "outputs": [
    {
     "data": {
      "text/plain": [
       "4.264811581370292"
      ]
     },
     "execution_count": 17,
     "metadata": {},
     "output_type": "execute_result"
    }
   ],
   "source": [
    "## extract volatility and strike price to calculate call price using monte carlo simulation\n",
    "df_wti_1=df_wti[df_wti.volatilitydate =='2020-04-15']\n",
    "wti1=wti_mstr[(wti_mstr.pricedate=='4/15/2020')&(wti_mstr.delivdate=='11/1/2020')]\n",
    "T = (wti1.duration_months.unique())\n",
    "pr=df_wti_1.price\n",
    "acumpayof=0\n",
    "K=25\n",
    "dt=.1\n",
    "n = int(T/dt)\n",
    "t=np.linspace(0.,T,n)\n",
    "npaths=50\n",
    "for i in range(npaths):\n",
    "    x = OU_path(a_b(pr,1)[0],a_b(pr,1)[1], wti1.volatility[wti1.strikeprice==K] , min(df_wti_1.price),T)\n",
    "    acumpayof=acumpayof+ max((x[-1] - K),0 )\n",
    "\n",
    "call_p = (acumpayof/npaths)*math.exp(-1*(T/1200)*wti1.bidrate[wti1.strikeprice==K]*(T/12))\n",
    "call_p"
   ]
  },
  {
   "cell_type": "code",
   "execution_count": null,
   "metadata": {},
   "outputs": [],
   "source": []
  }
 ],
 "metadata": {
  "kernelspec": {
   "display_name": "Python 3",
   "language": "python",
   "name": "python3"
  },
  "language_info": {
   "codemirror_mode": {
    "name": "ipython",
    "version": 3
   },
   "file_extension": ".py",
   "mimetype": "text/x-python",
   "name": "python",
   "nbconvert_exporter": "python",
   "pygments_lexer": "ipython3",
   "version": "3.8.3"
  }
 },
 "nbformat": 4,
 "nbformat_minor": 4
}
